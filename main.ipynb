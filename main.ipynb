{
 "cells": [
  {
   "cell_type": "code",
   "execution_count": null,
   "metadata": {},
   "outputs": [],
   "source": [
    "import pandas as pd\n",
    "import numpy as np\n",
    "import requests\n",
    "from bs4 import BeautifulSoup\n",
    "from lxml import etree"
   ]
  },
  {
   "cell_type": "code",
   "execution_count": null,
   "metadata": {},
   "outputs": [],
   "source": [
    "url = requests.get('https://webscraper.io/test-sites/e-commerce/allinone/computers/laptops')\n",
    "print(url.status_code)\n"
   ]
  },
  {
   "cell_type": "code",
   "execution_count": null,
   "metadata": {},
   "outputs": [],
   "source": [
    "soup = BeautifulSoup(url.content,'html.parser')\n",
    "titulos = soup.find_all('a', attrs={'class':'title'})\n",
    "titulos = [i.text for i in titulos]"
   ]
  },
  {
   "cell_type": "code",
   "execution_count": null,
   "metadata": {},
   "outputs": [],
   "source": [
    "# Extraindo descrição dos notebooks\n",
    "descricao = soup.find_all('p', attrs={'class':'description'})\n",
    "descricao = [i.text for i in descricao]"
   ]
  },
  {
   "cell_type": "code",
   "execution_count": null,
   "metadata": {},
   "outputs": [],
   "source": [
    "reviews = soup.find_all('p', attrs={'class':'pull-right'})\n",
    "reviews = [i.text for i in reviews]"
   ]
  },
  {
   "cell_type": "code",
   "execution_count": null,
   "metadata": {},
   "outputs": [],
   "source": [
    "# Extraindo preço dos notebooks\n",
    "preco = soup.find_all('h4', attrs={'class':'pull-right price'})\n",
    "preco = [i.text for i in preco]"
   ]
  },
  {
   "cell_type": "code",
   "execution_count": null,
   "metadata": {},
   "outputs": [],
   "source": [
    "path = etree.HTML(str(soup))\n",
    "site = path.xpath(\"//div[@class='caption']//h4[2]//a\")\n",
    "sites = [i.get('href') for i in site]\n"
   ]
  },
  {
   "cell_type": "code",
   "execution_count": null,
   "metadata": {},
   "outputs": [],
   "source": [
    "# Extraindo avaliação dos notebooks\n",
    "avaliacoes = etree.HTML(str(soup))\n",
    "avaliacoes = path.xpath(\"//div[@class='ratings']//p[2]\")\n",
    "avaliacoes = [i.get('data-rating') for i in avaliacoes]\n"
   ]
  },
  {
   "cell_type": "code",
   "execution_count": 28,
   "metadata": {},
   "outputs": [
    {
     "data": {
      "text/html": [
       "<div>\n",
       "<style scoped>\n",
       "    .dataframe tbody tr th:only-of-type {\n",
       "        vertical-align: middle;\n",
       "    }\n",
       "\n",
       "    .dataframe tbody tr th {\n",
       "        vertical-align: top;\n",
       "    }\n",
       "\n",
       "    .dataframe thead th {\n",
       "        text-align: right;\n",
       "    }\n",
       "</style>\n",
       "<table border=\"1\" class=\"dataframe\">\n",
       "  <thead>\n",
       "    <tr style=\"text-align: right;\">\n",
       "      <th></th>\n",
       "      <th>Título</th>\n",
       "      <th>Descrição</th>\n",
       "      <th>Site</th>\n",
       "      <th>Avaliações</th>\n",
       "      <th>Reviews</th>\n",
       "      <th>Preço</th>\n",
       "    </tr>\n",
       "  </thead>\n",
       "  <tbody>\n",
       "    <tr>\n",
       "      <th>0</th>\n",
       "      <td>[Asus VivoBook X4...]</td>\n",
       "      <td>Asus VivoBook X441NA-GA190 Chocolate Black, 14...</td>\n",
       "      <td>/test-sites/e-commerce/allinone/product/545</td>\n",
       "      <td>3</td>\n",
       "      <td>14 reviews</td>\n",
       "      <td>$295.99</td>\n",
       "    </tr>\n",
       "    <tr>\n",
       "      <th>1</th>\n",
       "      <td>[Prestigio SmartB...]</td>\n",
       "      <td>Prestigio SmartBook 133S Dark Grey, 13.3\" FHD ...</td>\n",
       "      <td>/test-sites/e-commerce/allinone/product/546</td>\n",
       "      <td>2</td>\n",
       "      <td>8 reviews</td>\n",
       "      <td>$299.00</td>\n",
       "    </tr>\n",
       "    <tr>\n",
       "      <th>2</th>\n",
       "      <td>[Prestigio SmartB...]</td>\n",
       "      <td>Prestigio SmartBook 133S Gold, 13.3\" FHD IPS, ...</td>\n",
       "      <td>/test-sites/e-commerce/allinone/product/547</td>\n",
       "      <td>4</td>\n",
       "      <td>12 reviews</td>\n",
       "      <td>$299.00</td>\n",
       "    </tr>\n",
       "    <tr>\n",
       "      <th>3</th>\n",
       "      <td>[Aspire E1-510]</td>\n",
       "      <td>15.6\", Pentium N3520 2.16GHz, 4GB, 500GB, Linux</td>\n",
       "      <td>/test-sites/e-commerce/allinone/product/517</td>\n",
       "      <td>3</td>\n",
       "      <td>2 reviews</td>\n",
       "      <td>$306.99</td>\n",
       "    </tr>\n",
       "    <tr>\n",
       "      <th>4</th>\n",
       "      <td>[Lenovo V110-15IA...]</td>\n",
       "      <td>Lenovo V110-15IAP, 15.6\" HD, Celeron N3350 1.1...</td>\n",
       "      <td>/test-sites/e-commerce/allinone/product/548</td>\n",
       "      <td>3</td>\n",
       "      <td>5 reviews</td>\n",
       "      <td>$321.94</td>\n",
       "    </tr>\n",
       "    <tr>\n",
       "      <th>...</th>\n",
       "      <td>...</td>\n",
       "      <td>...</td>\n",
       "      <td>...</td>\n",
       "      <td>...</td>\n",
       "      <td>...</td>\n",
       "      <td>...</td>\n",
       "    </tr>\n",
       "    <tr>\n",
       "      <th>112</th>\n",
       "      <td>[Lenovo Legion Y7...]</td>\n",
       "      <td>Lenovo Legion Y720, 15.6\" FHD IPS, Core i7-770...</td>\n",
       "      <td>/test-sites/e-commerce/allinone/product/541</td>\n",
       "      <td>3</td>\n",
       "      <td>8 reviews</td>\n",
       "      <td>$1399.00</td>\n",
       "    </tr>\n",
       "    <tr>\n",
       "      <th>113</th>\n",
       "      <td>[Asus ROG Strix G...]</td>\n",
       "      <td>Asus ROG Strix GL702VM-GC146T, 17.3\" FHD, Core...</td>\n",
       "      <td>/test-sites/e-commerce/allinone/product/632</td>\n",
       "      <td>3</td>\n",
       "      <td>10 reviews</td>\n",
       "      <td>$1399.00</td>\n",
       "    </tr>\n",
       "    <tr>\n",
       "      <th>114</th>\n",
       "      <td>[Asus ROG Strix G...]</td>\n",
       "      <td>Asus ROG Strix GL702ZC-GC154T, 17.3\" FHD, Ryze...</td>\n",
       "      <td>/test-sites/e-commerce/allinone/product/542</td>\n",
       "      <td>4</td>\n",
       "      <td>7 reviews</td>\n",
       "      <td>$1769.00</td>\n",
       "    </tr>\n",
       "    <tr>\n",
       "      <th>115</th>\n",
       "      <td>[Asus ROG Strix G...]</td>\n",
       "      <td>Asus ROG Strix GL702ZC-GC209T, 17.3\" FHD IPS, ...</td>\n",
       "      <td>/test-sites/e-commerce/allinone/product/543</td>\n",
       "      <td>1</td>\n",
       "      <td>8 reviews</td>\n",
       "      <td>$1769.00</td>\n",
       "    </tr>\n",
       "    <tr>\n",
       "      <th>116</th>\n",
       "      <td>[Asus ROG Strix S...]</td>\n",
       "      <td>Asus ROG Strix SCAR Edition GL503VM-ED115T, 15...</td>\n",
       "      <td>/test-sites/e-commerce/allinone/product/544</td>\n",
       "      <td>3</td>\n",
       "      <td>8 reviews</td>\n",
       "      <td>$1799.00</td>\n",
       "    </tr>\n",
       "  </tbody>\n",
       "</table>\n",
       "<p>117 rows × 6 columns</p>\n",
       "</div>"
      ],
      "text/plain": [
       "                    Título                                          Descrição  \\\n",
       "0    [Asus VivoBook X4...]  Asus VivoBook X441NA-GA190 Chocolate Black, 14...   \n",
       "1    [Prestigio SmartB...]  Prestigio SmartBook 133S Dark Grey, 13.3\" FHD ...   \n",
       "2    [Prestigio SmartB...]  Prestigio SmartBook 133S Gold, 13.3\" FHD IPS, ...   \n",
       "3          [Aspire E1-510]    15.6\", Pentium N3520 2.16GHz, 4GB, 500GB, Linux   \n",
       "4    [Lenovo V110-15IA...]  Lenovo V110-15IAP, 15.6\" HD, Celeron N3350 1.1...   \n",
       "..                     ...                                                ...   \n",
       "112  [Lenovo Legion Y7...]  Lenovo Legion Y720, 15.6\" FHD IPS, Core i7-770...   \n",
       "113  [Asus ROG Strix G...]  Asus ROG Strix GL702VM-GC146T, 17.3\" FHD, Core...   \n",
       "114  [Asus ROG Strix G...]  Asus ROG Strix GL702ZC-GC154T, 17.3\" FHD, Ryze...   \n",
       "115  [Asus ROG Strix G...]  Asus ROG Strix GL702ZC-GC209T, 17.3\" FHD IPS, ...   \n",
       "116  [Asus ROG Strix S...]  Asus ROG Strix SCAR Edition GL503VM-ED115T, 15...   \n",
       "\n",
       "                                            Site Avaliações     Reviews  \\\n",
       "0    /test-sites/e-commerce/allinone/product/545          3  14 reviews   \n",
       "1    /test-sites/e-commerce/allinone/product/546          2   8 reviews   \n",
       "2    /test-sites/e-commerce/allinone/product/547          4  12 reviews   \n",
       "3    /test-sites/e-commerce/allinone/product/517          3   2 reviews   \n",
       "4    /test-sites/e-commerce/allinone/product/548          3   5 reviews   \n",
       "..                                           ...        ...         ...   \n",
       "112  /test-sites/e-commerce/allinone/product/541          3   8 reviews   \n",
       "113  /test-sites/e-commerce/allinone/product/632          3  10 reviews   \n",
       "114  /test-sites/e-commerce/allinone/product/542          4   7 reviews   \n",
       "115  /test-sites/e-commerce/allinone/product/543          1   8 reviews   \n",
       "116  /test-sites/e-commerce/allinone/product/544          3   8 reviews   \n",
       "\n",
       "        Preço  \n",
       "0     $295.99  \n",
       "1     $299.00  \n",
       "2     $299.00  \n",
       "3     $306.99  \n",
       "4     $321.94  \n",
       "..        ...  \n",
       "112  $1399.00  \n",
       "113  $1399.00  \n",
       "114  $1769.00  \n",
       "115  $1769.00  \n",
       "116  $1799.00  \n",
       "\n",
       "[117 rows x 6 columns]"
      ]
     },
     "execution_count": 28,
     "metadata": {},
     "output_type": "execute_result"
    }
   ],
   "source": [
    "# Criando Data Frame\n",
    "df = pd.DataFrame({\"Título\": titulos, \"Descrição\": descricao, \"Site\": sites, \"Avaliações\": avaliacoes, \"Reviews\": reviews, \"Preço\": preco})\n",
    "\n",
    "df"
   ]
  }
 ],
 "metadata": {
  "kernelspec": {
   "display_name": "Python 3.10.5 64-bit (windows store)",
   "language": "python",
   "name": "python3"
  },
  "language_info": {
   "codemirror_mode": {
    "name": "ipython",
    "version": 3
   },
   "file_extension": ".py",
   "mimetype": "text/x-python",
   "name": "python",
   "nbconvert_exporter": "python",
   "pygments_lexer": "ipython3",
   "version": "3.10.5"
  },
  "orig_nbformat": 4,
  "vscode": {
   "interpreter": {
    "hash": "4755ea49871eee6dc607c35acdcc013c27cdc8227bd66fda43b55df4e2770444"
   }
  }
 },
 "nbformat": 4,
 "nbformat_minor": 2
}
